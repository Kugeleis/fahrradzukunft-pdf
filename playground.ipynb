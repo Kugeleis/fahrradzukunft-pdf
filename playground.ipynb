{
 "cells": [
  {
   "cell_type": "markdown",
   "metadata": {},
   "source": [
    "# Load webpage and export it as pdf"
   ]
  },
  {
   "cell_type": "code",
   "execution_count": 11,
   "metadata": {},
   "outputs": [],
   "source": [
    "import requests\n",
    "from bs4 import BeautifulSoup\n",
    "import pdfkit\n",
    "\n",
    "# Step 1: Fetch the webpage\n",
    "url = 'https://fahrradzukunft.de/39/fahrradanhaenger-und-fahrradtransportbox'\n",
    "response = requests.get(url)\n",
    "response.raise_for_status()  # Ensure we notice bad responses\n",
    "\n",
    "# Step 2: Parse the HTML content\n",
    "soup = BeautifulSoup(response.text, 'html.parser')\n",
    "\n",
    "# Step 3: Extract the content within the <main> tag\n",
    "main_content = soup.find('main')\n",
    "if main_content is None:\n",
    "    raise ValueError(\"No <main> tag found in the webpage\")\n",
    "\n",
    "# Convert the main content to a string\n",
    "main_html = str(main_content)\n",
    "\n",
    "# Step 4: Convert the extracted HTML to PDF\n",
    "# pdfkit.from_string(main_html, 'output.pdf')\n",
    "\n",
    "# print(\"PDF generated successfully as 'output.pdf'\")"
   ]
  },
  {
   "cell_type": "code",
   "execution_count": 7,
   "metadata": {},
   "outputs": [
    {
     "ename": "FileNotFoundError",
     "evalue": "[Errno 2] No such file or directory: 'https://fahrradzukunft.de/39/fahrradanhaenger-und-fahrradtransportbox'",
     "output_type": "error",
     "traceback": [
      "\u001b[0;31m---------------------------------------------------------------------------\u001b[0m",
      "\u001b[0;31mFileNotFoundError\u001b[0m                         Traceback (most recent call last)",
      "Cell \u001b[0;32mIn[7], line 8\u001b[0m\n\u001b[1;32m      5\u001b[0m \u001b[38;5;28;01mfrom\u001b[39;00m \u001b[38;5;21;01mio\u001b[39;00m \u001b[38;5;28;01mimport\u001b[39;00m BytesIO\n\u001b[1;32m      7\u001b[0m \u001b[38;5;66;03m# Open the HTML file for reading\u001b[39;00m\n\u001b[0;32m----> 8\u001b[0m \u001b[38;5;28;01mwith\u001b[39;00m \u001b[38;5;28;43mopen\u001b[39;49m\u001b[43m(\u001b[49m\u001b[38;5;124;43m\"\u001b[39;49m\u001b[38;5;124;43mhttps://fahrradzukunft.de/39/fahrradanhaenger-und-fahrradtransportbox\u001b[39;49m\u001b[38;5;124;43m\"\u001b[39;49m\u001b[43m,\u001b[49m\u001b[43m \u001b[49m\u001b[38;5;124;43m\"\u001b[39;49m\u001b[38;5;124;43mr\u001b[39;49m\u001b[38;5;124;43m\"\u001b[39;49m\u001b[43m,\u001b[49m\u001b[43m \u001b[49m\u001b[43mencoding\u001b[49m\u001b[38;5;241;43m=\u001b[39;49m\u001b[38;5;124;43m\"\u001b[39;49m\u001b[38;5;124;43mutf-8\u001b[39;49m\u001b[38;5;124;43m\"\u001b[39;49m\u001b[43m)\u001b[49m \u001b[38;5;28;01mas\u001b[39;00m file:\n\u001b[1;32m      9\u001b[0m     \u001b[38;5;66;03m# Read the content of the file and store it as a string\u001b[39;00m\n\u001b[1;32m     10\u001b[0m     html_content \u001b[38;5;241m=\u001b[39m file\u001b[38;5;241m.\u001b[39mread()\n\u001b[1;32m     12\u001b[0m \u001b[38;5;66;03m# Create a BytesIO object to store the PDF output\u001b[39;00m\n",
      "File \u001b[0;32m~/programmieren/python/fahrradzukunft-pdf/.venv/lib/python3.12/site-packages/IPython/core/interactiveshell.py:324\u001b[0m, in \u001b[0;36m_modified_open\u001b[0;34m(file, *args, **kwargs)\u001b[0m\n\u001b[1;32m    317\u001b[0m \u001b[38;5;28;01mif\u001b[39;00m file \u001b[38;5;129;01min\u001b[39;00m {\u001b[38;5;241m0\u001b[39m, \u001b[38;5;241m1\u001b[39m, \u001b[38;5;241m2\u001b[39m}:\n\u001b[1;32m    318\u001b[0m     \u001b[38;5;28;01mraise\u001b[39;00m \u001b[38;5;167;01mValueError\u001b[39;00m(\n\u001b[1;32m    319\u001b[0m         \u001b[38;5;124mf\u001b[39m\u001b[38;5;124m\"\u001b[39m\u001b[38;5;124mIPython won\u001b[39m\u001b[38;5;124m'\u001b[39m\u001b[38;5;124mt let you open fd=\u001b[39m\u001b[38;5;132;01m{\u001b[39;00mfile\u001b[38;5;132;01m}\u001b[39;00m\u001b[38;5;124m by default \u001b[39m\u001b[38;5;124m\"\u001b[39m\n\u001b[1;32m    320\u001b[0m         \u001b[38;5;124m\"\u001b[39m\u001b[38;5;124mas it is likely to crash IPython. If you know what you are doing, \u001b[39m\u001b[38;5;124m\"\u001b[39m\n\u001b[1;32m    321\u001b[0m         \u001b[38;5;124m\"\u001b[39m\u001b[38;5;124myou can use builtins\u001b[39m\u001b[38;5;124m'\u001b[39m\u001b[38;5;124m open.\u001b[39m\u001b[38;5;124m\"\u001b[39m\n\u001b[1;32m    322\u001b[0m     )\n\u001b[0;32m--> 324\u001b[0m \u001b[38;5;28;01mreturn\u001b[39;00m \u001b[43mio_open\u001b[49m\u001b[43m(\u001b[49m\u001b[43mfile\u001b[49m\u001b[43m,\u001b[49m\u001b[43m \u001b[49m\u001b[38;5;241;43m*\u001b[39;49m\u001b[43margs\u001b[49m\u001b[43m,\u001b[49m\u001b[43m \u001b[49m\u001b[38;5;241;43m*\u001b[39;49m\u001b[38;5;241;43m*\u001b[39;49m\u001b[43mkwargs\u001b[49m\u001b[43m)\u001b[49m\n",
      "\u001b[0;31mFileNotFoundError\u001b[0m: [Errno 2] No such file or directory: 'https://fahrradzukunft.de/39/fahrradanhaenger-und-fahrradtransportbox'"
     ]
    }
   ],
   "source": [
    "# Import the pisa module from the xhtml2pdf library\n",
    "from xhtml2pdf import pisa\n",
    "\n",
    "# Import the BytesIO class from the io module\n",
    "from io import BytesIO\n",
    "\n",
    "# Open the HTML file for reading\n",
    "with open(\"https://fahrradzukunft.de/39/fahrradanhaenger-und-fahrradtransportbox\", \"r\", encoding=\"utf-8\") as file:\n",
    "    # Read the content of the file and store it as a string\n",
    "    html_content = file.read()\n",
    "\n",
    "# Create a BytesIO object to store the PDF output\n",
    "pdf_output = BytesIO()\n",
    "\n",
    "# Convert the HTML content to a PDF document\n",
    "pisa.CreatePDF(html_content, dest=pdf_output, encoding='utf-8')\n",
    "\n",
    "# Open a PDF file for writing in binary mode\n",
    "with open(\"html-file-to-pdf.pdf\", \"wb\") as pdf_file:\n",
    "  \n",
    "    # Write the PDF content to the file\n",
    "    pdf_file.write(pdf_output.getvalue())"
   ]
  },
  {
   "cell_type": "code",
   "execution_count": 14,
   "metadata": {},
   "outputs": [],
   "source": [
    "# Import the HTML class from the WeasyPrint library\n",
    "from weasyprint import HTML, CSS\n",
    "\n",
    "\n",
    "# Instantiate HTML class. Call write_pdf() method to convert Website URL to PDF with Inline Stylesheet\n",
    "HTML(string=main_html).write_pdf('groupdocs-weasyprint.pdf', \n",
    "                stylesheets=[CSS(string='body { font-family: serif !important }')])"
   ]
  },
  {
   "cell_type": "code",
   "execution_count": 20,
   "metadata": {},
   "outputs": [],
   "source": [
    "import requests\n",
    "from bs4 import BeautifulSoup\n",
    "from weasyprint import HTML, CSS\n",
    "\n",
    "# URL of the webpage you want to scrape\n",
    "url = 'https://fahrradzukunft.de/39/fahrradanhaenger-und-fahrradtransportbox'\n",
    "\n",
    "\n",
    "# Send a GET request to the webpage\n",
    "response = requests.get(url)\n",
    "\n",
    "# Parse the HTML content of the webpage\n",
    "soup = BeautifulSoup(response.content, 'html.parser')\n",
    "\n",
    "# Find the <main> tag\n",
    "main_content = soup.find('main')\n",
    "\n",
    "# If <main> tag is found, convert it to a string\n",
    "if main_content:\n",
    "    main_html = str(main_content)\n",
    "else:\n",
    "    raise ValueError('No <main> tag found in the webpage.')\n",
    "\n",
    "# Read the CSS file\n",
    "with open('styles.css', 'r') as css_file:\n",
    "    css_content = css_file.read()\n",
    "\n",
    "# Render the <main> content as a PDF\n",
    "HTML(string=main_html, base_url=url).write_pdf('output.pdf', \n",
    "             stylesheets=[CSS(string=css_content)],optimize_images=True, jpeg_quality=60, dpi=300,zoom=0.8)"
   ]
  },
  {
   "cell_type": "code",
   "execution_count": null,
   "metadata": {},
   "outputs": [],
   "source": []
  }
 ],
 "metadata": {
  "kernelspec": {
   "display_name": ".venv",
   "language": "python",
   "name": "python3"
  },
  "language_info": {
   "codemirror_mode": {
    "name": "ipython",
    "version": 3
   },
   "file_extension": ".py",
   "mimetype": "text/x-python",
   "name": "python",
   "nbconvert_exporter": "python",
   "pygments_lexer": "ipython3",
   "version": "3.12.3"
  }
 },
 "nbformat": 4,
 "nbformat_minor": 2
}
