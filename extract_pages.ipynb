{
 "cells": [
  {
   "cell_type": "markdown",
   "metadata": {},
   "source": [
    "# Load webpage and export it as pdf"
   ]
  },
  {
   "cell_type": "code",
   "execution_count": 10,
   "metadata": {},
   "outputs": [],
   "source": [
    "%load_ext autoreload\n",
    "%autoreload 2"
   ]
  },
  {
   "cell_type": "code",
   "execution_count": 11,
   "metadata": {},
   "outputs": [],
   "source": [
    "import yaml\n",
    "from pathlib import Path\n",
    "\n",
    "import utils.functions as f\n",
    "\n",
    "# URL of the webpage you want to scrape\n",
    "url = \"https://fahrradzukunft.de/39/fahrradanhaenger-und-fahrradtransportbox\"\n",
    "data_dir = Path(\"data\")\n",
    "\n",
    "\n",
    "\n",
    "# Read the CSS file\n",
    "with open(\"styles.css\", \"r\") as css_file:\n",
    "    css_content = css_file.read()\n",
    "\n",
    "with open(data_dir/'links.yml', 'r') as file:\n",
    "    links = yaml.safe_load(file)\n",
    "    \n",
    "for link in links['links']:\n",
    "    f.make_pdf(link, data_dir, css_content)"
   ]
  },
  {
   "cell_type": "code",
   "execution_count": 8,
   "metadata": {},
   "outputs": [
    {
     "name": "stdout",
     "output_type": "stream",
     "text": [
      "All PDFs have been concatenated into data/merged.pdf\n"
     ]
    }
   ],
   "source": [
    "from pathlib import Path\n",
    "from typing import List\n",
    "from PyPDF2 import PdfMerger\n",
    "\n",
    "def get_files(folder_path: Path, file_extension = \".pdf\") -> List[Path]:\n",
    "    \"\"\"Get a list of all files in the specified folder. File type defaluts to PDF.\"\"\"\n",
    "    return [file for file in folder_path.iterdir() if file.suffix == file_extension]\n",
    "\n",
    "def concatenate_pdfs(pdf_files: List[Path], output_path: Path) -> None:\n",
    "    \"\"\"Concatenate all PDF files into a single PDF.\"\"\"\n",
    "    merger = PdfMerger()\n",
    "    for pdf_file in pdf_files:\n",
    "        merger.append(str(pdf_file))\n",
    "    merger.write(str(output_path))\n",
    "    merger.close()\n",
    "\n",
    "def create_file_name(url: str) -> str:\n",
    "    \"\"\"Create a file name from the URL.\"\"\"\n",
    "    parts = url.rstrip('/').split('/')\n",
    "    return parts[-1] + \".pdf\"\n",
    "\n",
    "def main(folder_path: Path, output_filename: Path) -> None:\n",
    "    \"\"\"Main function to concatenate PDFs in a folder.\"\"\"\n",
    "    pdf_files = get_files(folder_path)\n",
    "    concatenate_pdfs(pdf_files, output_filename)\n",
    "    print(f\"All PDFs have been concatenated into {str(output_filename)}\")\n",
    "\n",
    "if __name__ == \"__main__\":\n",
    "    output_filename = data_dir / f.create_foo_bar_string(link)+\".pdf\"\n",
    "    main(data_dir, output_filename)"
   ]
  },
  {
   "cell_type": "code",
   "execution_count": 14,
   "metadata": {},
   "outputs": [
    {
     "data": {
      "text/plain": [
       "'fahrradzukunft_39'"
      ]
     },
     "execution_count": 14,
     "metadata": {},
     "output_type": "execute_result"
    }
   ],
   "source": [
    "f.create_foo_bar_string(link)"
   ]
  },
  {
   "cell_type": "code",
   "execution_count": null,
   "metadata": {},
   "outputs": [],
   "source": []
  }
 ],
 "metadata": {
  "kernelspec": {
   "display_name": ".venv",
   "language": "python",
   "name": "python3"
  },
  "language_info": {
   "codemirror_mode": {
    "name": "ipython",
    "version": 3
   },
   "file_extension": ".py",
   "mimetype": "text/x-python",
   "name": "python",
   "nbconvert_exporter": "python",
   "pygments_lexer": "ipython3",
   "version": "3.12.3"
  }
 },
 "nbformat": 4,
 "nbformat_minor": 2
}
