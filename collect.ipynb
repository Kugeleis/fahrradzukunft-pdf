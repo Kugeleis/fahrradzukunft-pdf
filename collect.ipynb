{
 "cells": [
  {
   "cell_type": "markdown",
   "metadata": {},
   "source": [
    "# Collect all links"
   ]
  },
  {
   "cell_type": "code",
   "execution_count": 1,
   "metadata": {},
   "outputs": [
    {
     "name": "stdout",
     "output_type": "stream",
     "text": [
      "https://fahrradzukunft.de/39/\n",
      "https://fahrradzukunft.de/39/leserbriefe\n",
      "https://fahrradzukunft.de/39/hydraulische-bremsschalthebel-mit-mtb-komponenten-verbinden\n",
      "https://fahrradzukunft.de/39/inkompatible-schaltkomponenten-mit-adaptern-verbinden\n",
      "https://fahrradzukunft.de/39/fahrradanhaenger-und-fahrradtransportbox\n",
      "https://fahrradzukunft.de/39/lieblingsrad\n",
      "https://fahrradzukunft.de/39/leserumfrage\n",
      "https://fahrradzukunft.de/39/wissenschaft-hamburgs-wetter-ist-perfekt-zum-radfahren\n",
      "https://fahrradzukunft.de/39/tobis-fahrradgeschichten\n",
      "https://fahrradzukunft.de/39/hohlspeiche\n",
      "https://fahrradzukunft.de/39/impressum\n"
     ]
    }
   ],
   "source": [
    "from pathlib import Path\n",
    "import requests\n",
    "from bs4 import BeautifulSoup\n",
    "\n",
    "import utils.functions as f\n",
    "\n",
    "\n",
    "# Example usage\n",
    "start_url = \"https://fahrradzukunft.de/39/\"\n",
    "links = f.collect_ordered_list_links(start_url)\n",
    "links.insert(0, start_url)\n",
    "for link in links:\n",
    "    print(link)\n",
    "\n",
    "f.save_links_to_yaml(links, Path(\"data\") / \"links.yml\")"
   ]
  },
  {
   "cell_type": "code",
   "execution_count": null,
   "metadata": {},
   "outputs": [],
   "source": []
  }
 ],
 "metadata": {
  "kernelspec": {
   "display_name": ".venv",
   "language": "python",
   "name": "python3"
  },
  "language_info": {
   "codemirror_mode": {
    "name": "ipython",
    "version": 3
   },
   "file_extension": ".py",
   "mimetype": "text/x-python",
   "name": "python",
   "nbconvert_exporter": "python",
   "pygments_lexer": "ipython3",
   "version": "3.12.3"
  }
 },
 "nbformat": 4,
 "nbformat_minor": 2
}
