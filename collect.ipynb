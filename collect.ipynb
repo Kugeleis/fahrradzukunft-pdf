{
 "cells": [
  {
   "cell_type": "markdown",
   "metadata": {},
   "source": [
    "# Collect all links"
   ]
  },
  {
   "cell_type": "code",
   "execution_count": 5,
   "metadata": {},
   "outputs": [
    {
     "name": "stdout",
     "output_type": "stream",
     "text": [
      "https://fahrradzukunft.de/39/\n",
      "https://fahrradzukunft.de/39/leserbriefe\n",
      "https://fahrradzukunft.de/39/hydraulische-bremsschalthebel-mit-mtb-komponenten-verbinden\n",
      "https://fahrradzukunft.de/39/inkompatible-schaltkomponenten-mit-adaptern-verbinden\n",
      "https://fahrradzukunft.de/39/fahrradanhaenger-und-fahrradtransportbox\n",
      "https://fahrradzukunft.de/39/lieblingsrad\n",
      "https://fahrradzukunft.de/39/leserumfrage\n",
      "https://fahrradzukunft.de/39/wissenschaft-hamburgs-wetter-ist-perfekt-zum-radfahren\n",
      "https://fahrradzukunft.de/39/tobis-fahrradgeschichten\n",
      "https://fahrradzukunft.de/39/hohlspeiche\n",
      "https://fahrradzukunft.de/39/impressum\n"
     ]
    }
   ],
   "source": [
    "from pathlib import Path\n",
    "import requests\n",
    "from bs4 import BeautifulSoup\n",
    "from urllib.parse import urljoin, urlparse\n",
    "\n",
    "import yaml\n",
    "\n",
    "\n",
    "def collect_links(start_url):\n",
    "    \"\"\"collect all links from a given URL below it\"\"\"\n",
    "    # Send a GET request to the starting URL\n",
    "    response = requests.get(start_url)\n",
    "    response.raise_for_status()  # Raise an exception for HTTP errors\n",
    "\n",
    "    # Parse the HTML content\n",
    "    soup = BeautifulSoup(response.text, \"html.parser\")\n",
    "\n",
    "    # Extract all anchor tags\n",
    "    anchor_tags = soup.find_all(\"a\", href=True)\n",
    "\n",
    "    # Filter links that start with the specified pattern\n",
    "    start_url_parsed = urlparse(start_url)\n",
    "    base_url = f\"{start_url_parsed.scheme}://{start_url_parsed.netloc}\"\n",
    "    filtered_links = set()\n",
    "\n",
    "    for tag in anchor_tags:\n",
    "        href = tag[\"href\"]\n",
    "        full_url = urljoin(base_url, href)\n",
    "        if full_url.startswith(start_url):\n",
    "            filtered_links.add(full_url)\n",
    "\n",
    "    return filtered_links\n",
    "\n",
    "\n",
    "def collect_ordered_list_links(start_url):\n",
    "    # Send a GET request to the starting URL\n",
    "    response = requests.get(start_url)\n",
    "    response.raise_for_status()  # Raise an exception for HTTP errors\n",
    "\n",
    "    # Parse the HTML content\n",
    "    soup = BeautifulSoup(response.text, \"html.parser\")\n",
    "\n",
    "    # Find the <ol> within the specified path\n",
    "    ol_tag = soup.select_one(\"body > div.seite > div > div > nav.ausgabe > ol\")\n",
    "\n",
    "    if not ol_tag:\n",
    "        return []\n",
    "\n",
    "    # Extract all anchor tags within the <ol>\n",
    "    anchor_tags = ol_tag.find_all(\"a\", href=True)\n",
    "\n",
    "    # Collect the links\n",
    "    base_url = response.url\n",
    "    links = [urljoin(base_url, tag[\"href\"]) for tag in anchor_tags]\n",
    "\n",
    "    return links\n",
    "\n",
    "\n",
    "def save_links_to_yaml(links: list[str], file_path: Path):\n",
    "    \"\"\"save links to a YAML file\"\"\"\n",
    "    data = {\"links\": list(links)}\n",
    "    with open(file_path, \"w\") as file:\n",
    "        yaml.dump(data, file)\n",
    "\n",
    "\n",
    "# Example usage\n",
    "start_url = \"https://fahrradzukunft.de/39/\"\n",
    "links = collect_ordered_list_links(start_url)\n",
    "links.insert(0, start_url)\n",
    "for link in links:\n",
    "    print(link)\n",
    "\n",
    "save_links_to_yaml(links, Path(\"data\") / \"links.yml\")"
   ]
  },
  {
   "cell_type": "code",
   "execution_count": 3,
   "metadata": {},
   "outputs": [
    {
     "name": "stdout",
     "output_type": "stream",
     "text": [
      "1. https://fahrradzukunft.de/39/leserbriefe\n",
      "2. https://fahrradzukunft.de/39/hydraulische-bremsschalthebel-mit-mtb-komponenten-verbinden\n",
      "3. https://fahrradzukunft.de/39/inkompatible-schaltkomponenten-mit-adaptern-verbinden\n",
      "4. https://fahrradzukunft.de/39/fahrradanhaenger-und-fahrradtransportbox\n",
      "5. https://fahrradzukunft.de/39/lieblingsrad\n",
      "6. https://fahrradzukunft.de/39/leserumfrage\n",
      "7. https://fahrradzukunft.de/39/wissenschaft-hamburgs-wetter-ist-perfekt-zum-radfahren\n",
      "8. https://fahrradzukunft.de/39/tobis-fahrradgeschichten\n",
      "9. https://fahrradzukunft.de/39/hohlspeiche\n",
      "10. https://fahrradzukunft.de/39/impressum\n"
     ]
    }
   ],
   "source": [
    "import requests\n",
    "from bs4 import BeautifulSoup\n",
    "from urllib.parse import urljoin\n",
    "\n",
    "def collect_ordered_list_links(start_url):\n",
    "    # Send a GET request to the starting URL\n",
    "    response = requests.get(start_url)\n",
    "    response.raise_for_status()  # Raise an exception for HTTP errors\n",
    "\n",
    "    # Parse the HTML content\n",
    "    soup = BeautifulSoup(response.text, 'html.parser')\n",
    "\n",
    "    # Find the <ol> within the specified path\n",
    "    ol_tag = soup.select_one('body > div.seite > div > div > nav.ausgabe > ol')\n",
    "\n",
    "    if not ol_tag:\n",
    "        return []\n",
    "\n",
    "    # Extract all anchor tags within the <ol>\n",
    "    anchor_tags = ol_tag.find_all('a', href=True)\n",
    "\n",
    "    # Collect the links\n",
    "    base_url = response.url\n",
    "    links = [urljoin(base_url, tag['href']) for tag in anchor_tags]\n",
    "\n",
    "    return links\n",
    "\n",
    "# Example usage\n",
    "start_url = 'https://fahrradzukunft.de/39/'\n",
    "links = collect_ordered_list_links(start_url)\n",
    "\n",
    "for index, link in enumerate(links, start=1):\n",
    "    print(f\"{index}. {link}\")"
   ]
  },
  {
   "cell_type": "code",
   "execution_count": null,
   "metadata": {},
   "outputs": [],
   "source": []
  }
 ],
 "metadata": {
  "kernelspec": {
   "display_name": ".venv",
   "language": "python",
   "name": "python3"
  },
  "language_info": {
   "codemirror_mode": {
    "name": "ipython",
    "version": 3
   },
   "file_extension": ".py",
   "mimetype": "text/x-python",
   "name": "python",
   "nbconvert_exporter": "python",
   "pygments_lexer": "ipython3",
   "version": "3.12.3"
  }
 },
 "nbformat": 4,
 "nbformat_minor": 2
}
