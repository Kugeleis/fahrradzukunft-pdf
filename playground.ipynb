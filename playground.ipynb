{
 "cells": [
  {
   "cell_type": "markdown",
   "metadata": {},
   "source": [
    "# Load webpage and export it as pdf"
   ]
  },
  {
   "cell_type": "code",
   "execution_count": 2,
   "metadata": {},
   "outputs": [],
   "source": [
    "import requests\n",
    "from bs4 import BeautifulSoup\n",
    "from weasyprint import HTML, CSS\n",
    "\n",
    "# URL of the webpage you want to scrape\n",
    "url = 'https://fahrradzukunft.de/39/fahrradanhaenger-und-fahrradtransportbox'\n",
    "\n",
    "\n",
    "def get_page_text(url)->str:\n",
    "    response = requests.get(url)\n",
    "    soup = BeautifulSoup(response.content, 'html.parser')\n",
    "    main_content = soup.find('main')\n",
    "    if not main_content:\n",
    "        raise ValueError('No <main> tag found in the webpage.')\n",
    "    return str(main_content)\n",
    "\n",
    "\n",
    "# Read the CSS file\n",
    "with open('styles.css', 'r') as css_file:\n",
    "    css_content = css_file.read()\n",
    "main_html = get_page_text(url)\n",
    "# Render the <main> content as a PDF\n",
    "HTML(string=main_html, base_url=url).write_pdf('output.pdf', \n",
    "             stylesheets=[CSS(string=css_content)],optimize_images=True, jpeg_quality=60, dpi=300,zoom=0.8)"
   ]
  },
  {
   "cell_type": "code",
   "execution_count": null,
   "metadata": {},
   "outputs": [],
   "source": []
  }
 ],
 "metadata": {
  "kernelspec": {
   "display_name": ".venv",
   "language": "python",
   "name": "python3"
  },
  "language_info": {
   "codemirror_mode": {
    "name": "ipython",
    "version": 3
   },
   "file_extension": ".py",
   "mimetype": "text/x-python",
   "name": "python",
   "nbconvert_exporter": "python",
   "pygments_lexer": "ipython3",
   "version": "3.12.3"
  }
 },
 "nbformat": 4,
 "nbformat_minor": 2
}
