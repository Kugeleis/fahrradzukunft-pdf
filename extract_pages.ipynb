{
 "cells": [
  {
   "cell_type": "markdown",
   "metadata": {},
   "source": [
    "# Load webpage and export it as pdf"
   ]
  },
  {
   "cell_type": "code",
   "execution_count": 1,
   "metadata": {},
   "outputs": [],
   "source": [
    "%load_ext autoreload\n",
    "%autoreload 2"
   ]
  },
  {
   "cell_type": "code",
   "execution_count": 3,
   "metadata": {},
   "outputs": [],
   "source": [
    "import yaml\n",
    "from pathlib import Path\n",
    "\n",
    "import utils.functions as f\n",
    "\n",
    "# URL of the webpage you want to scrape\n",
    "url = \"https://fahrradzukunft.de/39\"\n",
    "data_dir = Path(\"data\")\n",
    "\n",
    "\n",
    "\n",
    "# Read the CSS file\n",
    "with open(\"styles.css\", \"r\") as css_file:\n",
    "    css_content = css_file.read()\n",
    "\n",
    "with open(data_dir/'links.yml', 'r') as file:\n",
    "    links = yaml.safe_load(file)\n",
    "    \n",
    "for link in links['links']:\n",
    "    f.make_pdf(link, data_dir, css_content)"
   ]
  },
  {
   "cell_type": "code",
   "execution_count": null,
   "metadata": {},
   "outputs": [],
   "source": [
    "# get pdf files in order of the links\n",
    "\n",
    "from PyPDF2 import PdfMerger\n",
    "\n",
    "pdf_file_folder = Path(\"data\")\n",
    "merger = PdfMerger()\n",
    "\n",
    "\n",
    "for link in links['links']:\n",
    "    file_name = f.create_file_name(link)\n",
    "    file_path = pdf_file_folder / file_name\n",
    "    print(file_path)\n",
    "    if file_path.exists():\n",
    "        merger = f.append_pdf(merger, file_path)\n",
    "\n",
    "merger.write(data_dir / f\"{f.create_foo_bar_string(url)}.pdf\")\n",
    "merger.close()\n"
   ]
  },
  {
   "cell_type": "code",
   "execution_count": 27,
   "metadata": {},
   "outputs": [],
   "source": [
    "# clear pdfs\n",
    "pdfs = Path(pdf_file_folder).glob(\"*.pdf\")\n",
    "\n",
    "# rm pdfs\n",
    "for pdf in pdfs:\n",
    "    pdf.unlink()"
   ]
  },
  {
   "cell_type": "code",
   "execution_count": null,
   "metadata": {},
   "outputs": [],
   "source": []
  }
 ],
 "metadata": {
  "kernelspec": {
   "display_name": ".venv",
   "language": "python",
   "name": "python3"
  },
  "language_info": {
   "codemirror_mode": {
    "name": "ipython",
    "version": 3
   },
   "file_extension": ".py",
   "mimetype": "text/x-python",
   "name": "python",
   "nbconvert_exporter": "python",
   "pygments_lexer": "ipython3",
   "version": "3.12.3"
  }
 },
 "nbformat": 4,
 "nbformat_minor": 2
}
